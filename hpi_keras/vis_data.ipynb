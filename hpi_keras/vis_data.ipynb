{
 "cells": [
  {
   "cell_type": "code",
   "execution_count": 1,
   "metadata": {
    "ExecuteTime": {
     "end_time": "2018-11-15T05:10:21.214734Z",
     "start_time": "2018-11-15T05:10:16.643067Z"
    }
   },
   "outputs": [
    {
     "name": "stderr",
     "output_type": "stream",
     "text": [
      "/usr/local/lib/python3.5/dist-packages/h5py/__init__.py:36: FutureWarning: Conversion of the second argument of issubdtype from `float` to `np.floating` is deprecated. In future, it will be treated as `np.float64 == np.dtype(float).type`.\n",
      "  from ._conv import register_converters as _register_converters\n",
      "Using TensorFlow backend.\n"
     ]
    },
    {
     "name": "stdout",
     "output_type": "stream",
     "text": [
      "using data from linux\n",
      "exist folder--- ./logs\n"
     ]
    }
   ],
   "source": [
    "#encoding: utf-8\n",
    "from __future__ import print_function\n",
    "from keras import backend as K\n",
    "from config import config as cfg\n",
    "from training import init_env, get_number_of_steps\n",
    "gpus = '1'\n",
    "init_env(gpus)\n",
    "n_gpus = len(gpus.split(','))\n",
    "import os\n",
    "from proc.data import load_train_csv, split_train_val\n",
    "from proc.gennerator import BaseGenerator\n",
    "from model.resnet import ResNet50, preprocess_input"
   ]
  },
  {
   "cell_type": "code",
   "execution_count": 2,
   "metadata": {
    "ExecuteTime": {
     "end_time": "2018-11-15T05:10:44.886020Z",
     "start_time": "2018-11-15T05:10:21.217764Z"
    }
   },
   "outputs": [
    {
     "name": "stdout",
     "output_type": "stream",
     "text": [
      "****************************************************************************************************\n",
      "Class                          \t Count \tPercentage\n",
      "Nucleoplasm                    \t 12885 \t0.25\n",
      "Cytosol                        \t 8228 \t0.16\n",
      "Plasma membrane                \t 3777 \t0.07\n",
      "Nucleoli                       \t 3621 \t0.07\n",
      "Mitochondria                   \t 2965 \t0.06\n",
      "Golgi apparatus                \t 2822 \t0.06\n",
      "Nuclear bodies                 \t 2513 \t0.05\n",
      "Nuclear speckles               \t 1858 \t0.04\n",
      "Nucleoli fibrillar center      \t 1561 \t0.03\n",
      "Centrosome                     \t 1482 \t0.03\n",
      "Nuclear membrane               \t 1254 \t0.02\n",
      "Intermediate filaments         \t 1093 \t0.02\n",
      "Microtubules                   \t 1066 \t0.02\n",
      "Endoplasmic reticulum          \t 1008 \t0.02\n",
      "Microtubule organizing center  \t 902 \t0.02\n",
      "Cell junctions                 \t 802 \t0.02\n",
      "Actin filaments                \t 688 \t0.01\n",
      "Focal adhesion sites           \t 537 \t0.01\n",
      "Cytokinetic bridge             \t 530 \t0.01\n",
      "Cytoplasmic bodies             \t 328 \t0.01\n",
      "Aggresome                      \t 322 \t0.01\n",
      "Mitotic spindle                \t 210 \t0.00\n",
      "Lipid droplets                 \t 172 \t0.00\n",
      "Peroxisomes                    \t 53 \t0.00\n",
      "Endosomes                      \t 45 \t0.00\n",
      "Lysosomes                      \t 28 \t0.00\n",
      "Microtubule ends               \t 21 \t0.00\n",
      "Rods & rings                   \t 11 \t0.00\n",
      "****************************************************************************************************\n",
      "Class                          \t Count \tPercentage\n",
      "Nucleoplasm                    \t 9645 \t0.25\n",
      "Cytosol                        \t 6212 \t0.16\n",
      "Plasma membrane                \t 2839 \t0.07\n",
      "Nucleoli                       \t 2734 \t0.07\n",
      "Mitochondria                   \t 2235 \t0.06\n",
      "Golgi apparatus                \t 2069 \t0.05\n",
      "Nuclear bodies                 \t 1928 \t0.05\n",
      "Nuclear speckles               \t 1398 \t0.04\n",
      "Nucleoli fibrillar center      \t 1169 \t0.03\n",
      "Centrosome                     \t 1106 \t0.03\n",
      "Nuclear membrane               \t 944 \t0.02\n",
      "Intermediate filaments         \t 831 \t0.02\n",
      "Microtubules                   \t 799 \t0.02\n",
      "Endoplasmic reticulum          \t 755 \t0.02\n",
      "Microtubule organizing center  \t 675 \t0.02\n",
      "Cell junctions                 \t 589 \t0.02\n",
      "Actin filaments                \t 516 \t0.01\n",
      "Focal adhesion sites           \t 396 \t0.01\n",
      "Cytokinetic bridge             \t 389 \t0.01\n",
      "Aggresome                      \t 264 \t0.01\n",
      "Cytoplasmic bodies             \t 256 \t0.01\n",
      "Mitotic spindle                \t 153 \t0.00\n",
      "Lipid droplets                 \t 126 \t0.00\n",
      "Peroxisomes                    \t 39 \t0.00\n",
      "Endosomes                      \t 29 \t0.00\n",
      "Lysosomes                      \t 18 \t0.00\n",
      "Microtubule ends               \t 15 \t0.00\n",
      "Rods & rings                   \t 8 \t0.00\n",
      "****************************************************************************************************\n",
      "Class                          \t Count \tPercentage\n",
      "Nucleoplasm                    \t 3240 \t0.26\n",
      "Cytosol                        \t 2016 \t0.16\n",
      "Plasma membrane                \t 938 \t0.07\n",
      "Nucleoli                       \t 887 \t0.07\n",
      "Golgi apparatus                \t 753 \t0.06\n",
      "Mitochondria                   \t 730 \t0.06\n",
      "Nuclear bodies                 \t 585 \t0.05\n",
      "Nuclear speckles               \t 460 \t0.04\n",
      "Nucleoli fibrillar center      \t 392 \t0.03\n",
      "Centrosome                     \t 376 \t0.03\n",
      "Nuclear membrane               \t 310 \t0.02\n",
      "Microtubules                   \t 267 \t0.02\n",
      "Intermediate filaments         \t 262 \t0.02\n",
      "Endoplasmic reticulum          \t 253 \t0.02\n",
      "Microtubule organizing center  \t 227 \t0.02\n",
      "Cell junctions                 \t 213 \t0.02\n",
      "Actin filaments                \t 172 \t0.01\n",
      "Focal adhesion sites           \t 141 \t0.01\n",
      "Cytokinetic bridge             \t 141 \t0.01\n",
      "Cytoplasmic bodies             \t 72 \t0.01\n",
      "Aggresome                      \t 58 \t0.00\n",
      "Mitotic spindle                \t 57 \t0.00\n",
      "Lipid droplets                 \t 46 \t0.00\n",
      "Endosomes                      \t 16 \t0.00\n",
      "Peroxisomes                    \t 14 \t0.00\n",
      "Lysosomes                      \t 10 \t0.00\n",
      "Microtubule ends               \t 6 \t0.00\n",
      "Rods & rings                   \t 3 \t0.00\n"
     ]
    }
   ],
   "source": [
    "train_val_df = load_train_csv(cfg)\n",
    "train_df, val_df = split_train_val(train_val_df, 0.25)\n",
    "train_gen = BaseGenerator(train_df, cfg.train_dir, batch_size=cfg.batch_size,\n",
    "                          aug_args=cfg.aug_args.copy(),\n",
    "                          target_shape=cfg.input_shape[:2],\n",
    "                          use_yellow=False,\n",
    "                          preprocessing_function=preprocess_input)\n",
    "\n",
    "val_gen = BaseGenerator(val_df, cfg.train_dir, batch_size=cfg.batch_size,\n",
    "                        aug_args=cfg.aug_args,\n",
    "                        target_shape=(512, 512),\n",
    "                        use_yellow=False,\n",
    "                        preprocessing_function=preprocess_input)"
   ]
  },
  {
   "cell_type": "code",
   "execution_count": 3,
   "metadata": {
    "ExecuteTime": {
     "end_time": "2018-11-15T05:10:50.120930Z",
     "start_time": "2018-11-15T05:10:44.889036Z"
    }
   },
   "outputs": [
    {
     "name": "stderr",
     "output_type": "stream",
     "text": [
      "/usr/local/lib/python3.5/dist-packages/skimage/transform/_warps.py:84: UserWarning: The default mode, 'constant', will be changed to 'reflect' in skimage 0.15.\n",
      "  warn(\"The default mode, 'constant', will be changed to 'reflect' in \"\n",
      "/usr/local/lib/python3.5/dist-packages/skimage/util/dtype.py:122: UserWarning: Possible precision loss when converting from float64 to uint16\n",
      "  .format(dtypeobj_in, dtypeobj_out))\n"
     ]
    },
    {
     "name": "stdout",
     "output_type": "stream",
     "text": [
      "(16, 512, 512, 3) (16, 28)\n"
     ]
    }
   ],
   "source": [
    "batch_x, batch_y = train_gen[1]\n",
    "print(batch_x.shape, batch_y.shape)"
   ]
  },
  {
   "cell_type": "code",
   "execution_count": 4,
   "metadata": {
    "ExecuteTime": {
     "end_time": "2018-11-15T05:10:50.135837Z",
     "start_time": "2018-11-15T05:10:50.125026Z"
    }
   },
   "outputs": [
    {
     "data": {
      "text/plain": [
       "array([0., 0., 0., 0., 0., 0., 0., 0., 1., 0., 0., 0., 0., 0., 0., 0., 0.,\n",
       "       0., 0., 0., 0., 0., 0., 0., 0., 0., 0., 0.], dtype=float32)"
      ]
     },
     "execution_count": 4,
     "metadata": {},
     "output_type": "execute_result"
    }
   ],
   "source": [
    "batch_y[1]"
   ]
  },
  {
   "cell_type": "code",
   "execution_count": 7,
   "metadata": {
    "ExecuteTime": {
     "end_time": "2018-11-15T05:11:02.914427Z",
     "start_time": "2018-11-15T05:11:02.907858Z"
    }
   },
   "outputs": [
    {
     "data": {
      "text/plain": [
       "array([1., 0., 0., 0., 0., 0., 0., 0., 0., 0., 0., 0., 0., 0., 0., 0., 0.,\n",
       "       0., 0., 0., 0., 0., 0., 0., 0., 0., 1., 0.], dtype=float32)"
      ]
     },
     "execution_count": 7,
     "metadata": {},
     "output_type": "execute_result"
    }
   ],
   "source": [
    "batch_y[4]"
   ]
  },
  {
   "cell_type": "code",
   "execution_count": 10,
   "metadata": {
    "ExecuteTime": {
     "end_time": "2018-11-15T05:37:33.948854Z",
     "start_time": "2018-11-15T05:37:33.943159Z"
    }
   },
   "outputs": [
    {
     "data": {
      "text/plain": [
       "23312"
      ]
     },
     "execution_count": 10,
     "metadata": {},
     "output_type": "execute_result"
    }
   ],
   "source": [
    "len(train_gen) * 16"
   ]
  },
  {
   "cell_type": "code",
   "execution_count": null,
   "metadata": {},
   "outputs": [],
   "source": []
  }
 ],
 "metadata": {
  "kernelspec": {
   "display_name": "Python 3",
   "language": "python",
   "name": "python3"
  },
  "language_info": {
   "codemirror_mode": {
    "name": "ipython",
    "version": 3
   },
   "file_extension": ".py",
   "mimetype": "text/x-python",
   "name": "python",
   "nbconvert_exporter": "python",
   "pygments_lexer": "ipython3",
   "version": "3.5.2"
  },
  "latex_envs": {
   "LaTeX_envs_menu_present": true,
   "autoclose": false,
   "autocomplete": true,
   "bibliofile": "biblio.bib",
   "cite_by": "apalike",
   "current_citInitial": 1,
   "eqLabelWithNumbers": true,
   "eqNumInitial": 1,
   "hotkeys": {
    "equation": "Ctrl-E",
    "itemize": "Ctrl-I"
   },
   "labels_anchors": false,
   "latex_user_defs": false,
   "report_style_numbering": false,
   "user_envs_cfg": false
  }
 },
 "nbformat": 4,
 "nbformat_minor": 2
}
